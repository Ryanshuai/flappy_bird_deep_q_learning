{
 "cells": [
  {
   "cell_type": "code",
   "execution_count": null,
   "metadata": {},
   "outputs": [],
   "source": [
    "from flappy_bird import FlappyBird\n",
    "from dqn_agent import DQN_Agent"
   ]
  },
  {
   "cell_type": "code",
   "execution_count": null,
   "metadata": {},
   "outputs": [],
   "source": [
    "def train():\n",
    "    agent = DQN_Agent(action_size=2, pth=\"pths/4_23.pth\")\n",
    "    env = FlappyBird()\n",
    "    image, reward, terminal = env.next_frame(action=0)\n",
    "    reward_sum = reward\n",
    "    while True:\n",
    "        action = agent.act(image)\n",
    "        next_image, reward, terminal = env.next_frame(action)\n",
    "        reward_sum += reward\n",
    "        agent.observe(image, action, reward, next_image, terminal)\n",
    "        agent.learn()\n",
    "        image = next_image\n",
    "        if terminal:\n",
    "            agent.writer.add_scalar(\"Reward/reward_sum\", reward_sum, agent.learn_counter)\n",
    "            print(\"reward_sum: \", reward_sum)\n",
    "            env = FlappyBird()\n",
    "            image, reward, terminal = env.next_frame(action=0)\n",
    "            reward_sum = reward"
   ]
  },
  {
   "cell_type": "code",
   "execution_count": null,
   "metadata": {},
   "outputs": [],
   "source": [
    "train()"
   ]
  }
 ],
 "metadata": {
  "kernelspec": {
   "display_name": "Python 3",
   "language": "python",
   "name": "python3"
  },
  "language_info": {
   "codemirror_mode": {
    "name": "ipython",
    "version": 3
   },
   "file_extension": ".py",
   "mimetype": "text/x-python",
   "name": "python",
   "nbconvert_exporter": "python",
   "pygments_lexer": "ipython3",
   "version": "3.6.4"
  }
 },
 "nbformat": 4,
 "nbformat_minor": 2
}
