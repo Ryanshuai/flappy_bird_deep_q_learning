{
 "cells": [
  {
   "cell_type": "code",
   "execution_count": null,
   "metadata": {},
   "outputs": [],
   "source": [
    "import torch\n",
    "from torch import nn\n",
    "from torch.utils.tensorboard import SummaryWriter\n",
    "from collections import deque\n",
    "import random\n",
    "import cv2\n",
    "import pickle\n",
    "import os\n",
    "import numpy as np"
   ]
  },
  {
   "cell_type": "code",
   "execution_count": null,
   "metadata": {},
   "outputs": [],
   "source": [
    "DEVICE = torch.device(\"cuda\" if torch.cuda.is_available() else \"cpu\")"
   ]
  },
  {
   "cell_type": "markdown",
   "metadata": {},
   "source": [
    "Neural Network for Deep Q Learning"
   ]
  },
  {
   "cell_type": "code",
   "execution_count": null,
   "metadata": {},
   "outputs": [],
   "source": [
    "class NeuralNet(nn.Module):\n",
    "    def __init__(self, load_path=None):\n",
    "        super().__init__()\n",
    "        self.conv1 = nn.Conv2d(3, 16, kernel_size=3, stride=2, padding=1)\n",
    "        self.bn1 = nn.BatchNorm2d(16)\n",
    "        self.relu1 = nn.ReLU()\n",
    "        self.conv2 = nn.Conv2d(16, 32, kernel_size=3, stride=2, padding=1)\n",
    "        self.bn2 = nn.BatchNorm2d(32)\n",
    "        self.relu2 = nn.ReLU()\n",
    "        self.conv3 = nn.Conv2d(32, 64, kernel_size=3, stride=2, padding=1)\n",
    "        self.bn3 = nn.BatchNorm2d(64)\n",
    "        self.relu3 = nn.ReLU()\n",
    "        self.conv4 = nn.Conv2d(64, 128, kernel_size=3, stride=2, padding=1)\n",
    "        self.bn4 = nn.BatchNorm2d(128)\n",
    "        self.relu4 = nn.ReLU()\n",
    "        self.conv5 = nn.Conv2d(128, 256, kernel_size=3, stride=2, padding=1)\n",
    "        self.bn5 = nn.BatchNorm2d(256)\n",
    "        self.relu5 = nn.ReLU()\n",
    "        self.fc1 = nn.Linear(2048, 256)\n",
    "        self.relu6 = nn.ReLU()\n",
    "        self.fc2 = nn.Linear(256, 2)\n",
    "        self.load(load_path)\n",
    "    def forward(self, x):\n",
    "        x = self.relu1(self.bn1(self.conv1(x)))\n",
    "        x = self.relu2(self.bn2(self.conv2(x)))\n",
    "        x = self.relu3(self.bn3(self.conv3(x)))\n",
    "        x = self.relu4(self.bn4(self.conv4(x)))\n",
    "        x = self.relu5(self.bn5(self.conv5(x)))\n",
    "        x = x.view(x.size(0), -1)\n",
    "        x = self.relu6(self.fc1(x))\n",
    "        x = self.fc2(x)\n",
    "        return x\n",
    "    def load(self, load_path=None):\n",
    "        try:\n",
    "            with open(load_path, \"rb\") as f:\n",
    "                state_dict = torch.load(f, map_location=DEVICE)\n",
    "            self.load_state_dict(state_dict)\n",
    "            print(\"Model loaded from {}\".format(load_path))\n",
    "        except FileNotFoundError:\n",
    "            print(\"No model parameter found. Starting from scratch.\")"
   ]
  },
  {
   "cell_type": "markdown",
   "metadata": {},
   "source": [
    "The memory class for experience replay"
   ]
  },
  {
   "cell_type": "code",
   "execution_count": null,
   "metadata": {},
   "outputs": [],
   "source": [
    "class Memory:\n",
    "    def __init__(self, action_size, load_folder=None):\n",
    "        self.action_size = action_size\n",
    "        self.mem = deque(maxlen=10_000)\n",
    "        if load_folder:\n",
    "            self.from_disk(load_folder)\n",
    "    def save(self, state, action, reward, next_state, done):\n",
    "        state = state.transpose((2, 0, 1))\n",
    "        next_state = next_state.transpose((2, 0, 1))\n",
    "        action = np.eye(self.action_size)[action]\n",
    "        self.mem.append((state, action, reward, next_state, done))\n",
    "    def sample(self, batch_size):\n",
    "        mem_sample = random.sample(self.mem, batch_size)\n",
    "        state, action, reward, next_state, done = zip(*mem_sample)\n",
    "        state = torch.from_numpy(np.array(state)).float().cuda()\n",
    "        action = torch.from_numpy(np.array(action)).bool().cuda()\n",
    "        reward = torch.from_numpy(np.array(reward)).float().cuda()\n",
    "        next_state = torch.from_numpy(np.array(next_state)).float().cuda()\n",
    "        done = torch.from_numpy(np.array(done)).int().cuda()\n",
    "        return state, action, reward, next_state, done\n",
    "    def __len__(self):\n",
    "        return len(self.mem)\n",
    "    def to_disk(self, save_name):\n",
    "        with open(save_name, \"wb\") as f:\n",
    "            pickle.dump(self.mem, f)\n",
    "    def from_disk(self, load_name):\n",
    "        try:\n",
    "            with open(load_name, \"rb\") as f:\n",
    "                self.mem = pickle.load(f)\n",
    "        except FileNotFoundError:\n",
    "            print(\"No memory found. Starting from scratch.\")"
   ]
  },
  {
   "cell_type": "markdown",
   "metadata": {},
   "source": [
    "The agent class"
   ]
  },
  {
   "cell_type": "code",
   "execution_count": null,
   "metadata": {},
   "outputs": [],
   "source": [
    "class DQN_Agent:\n",
    "    def __init__(self, action_size, train=True, pth=\"\"):\n",
    "        self.action_size = action_size\n",
    "        self.memory = Memory(action_size, load_folder=\"memory\")\n",
    "        self.batch_size = 32\n",
    "        self.gamma = 0.99\n",
    "        self.model = NeuralNet(pth).to(DEVICE)\n",
    "        self.model_fixed = NeuralNet(pth).to(DEVICE)\n",
    "        self.writer = SummaryWriter(\"tensorboard/exp2\")\n",
    "        self.loss_function = nn.MSELoss()\n",
    "        self.optimizer = torch.optim.Adam(self.model.parameters(), lr=2e-3)\n",
    "        if train:\n",
    "            self.random_action_probability = 0.01\n",
    "            self.min_random_action_probability = 0.01\n",
    "            self.random_action_probability_decay = 0.99_999\n",
    "        else:\n",
    "            self.random_action_probability = 0.0\n",
    "            self.min_random_action_probability = 0.0\n",
    "            self.random_action_probability_decay = 0.0\n",
    "        self.observe_counter = 0\n",
    "        self.learn_counter = 0\n",
    "    def observe(self, state, action, reward, next_state, done):\n",
    "        state = cv2.resize(state, (128, 64))\n",
    "        next_state = cv2.resize(next_state, (128, 64))\n",
    "        self.memory.save(state, action, reward, next_state, done)\n",
    "        self.writer.add_scalar(\"Reward/reward\", reward, self.learn_counter)\n",
    "    def act(self, state):\n",
    "        self.random_action_probability = max(self.random_action_probability * self.random_action_probability_decay,\n",
    "                                             self.min_random_action_probability)\n",
    "        if np.random.uniform(0, 1) < self.random_action_probability:\n",
    "            p = np.array([0.9, 0.1])\n",
    "            index = np.random.choice([0, 1], p=p.ravel())\n",
    "            return index\n",
    "        else:\n",
    "            state = cv2.resize(state, (128, 64))\n",
    "            state = state.transpose((2, 0, 1))\n",
    "            state = torch.from_numpy(np.array(state)).float().cuda().unsqueeze(0)\n",
    "            max_idx = torch.argmax(self.model_fixed(state)).item()\n",
    "            return max_idx\n",
    "    def learn(self):\n",
    "        if len(self.memory) < self.batch_size:\n",
    "            return\n",
    "        state, action, reward, next_state, done = self.memory.sample(self.batch_size)\n",
    "        q_fixed_next_state = self.model_fixed(next_state).detach()\n",
    "        q_next_state = self.model(next_state).detach()\n",
    "        next_q_value = q_fixed_next_state.gather(1, torch.max(q_next_state, 1)[1].unsqueeze(1)).squeeze(1)\n",
    "        estimate_reward = reward + self.gamma * next_q_value * (1 - done)\n",
    "        loss = self.loss_function(estimate_reward, self.model(state).masked_select(action))\n",
    "        self.optimizer.zero_grad()\n",
    "        loss.backward()\n",
    "        self.optimizer.step()\n",
    "        self.learn_counter += 1\n",
    "        if self.learn_counter % 10 == 0:\n",
    "            self.model_fixed.load_state_dict(self.model.state_dict())\n",
    "        if self.learn_counter % 10_000 == 0:\n",
    "            self.memory.to_disk(\"memory\")\n",
    "        if self.learn_counter % 10_000 == 0:\n",
    "            torch.save(self.model.state_dict(), \"pths\" + os.sep + f\"4_{self.learn_counter // 10_000}\" + \".pth\")\n",
    "        self.writer.add_scalar('Loss', loss.item(), self.learn_counter)\n",
    "        self.writer.add_scalar('Random Action Probability', self.random_action_probability, self.learn_counter)\n",
    "        self.writer.add_scalar('Reward/q_value', torch.max(self.model(state)).item(), self.learn_counter)"
   ]
  }
 ],
 "metadata": {
  "kernelspec": {
   "display_name": "Python 3 (ipykernel)",
   "language": "python",
   "name": "python3"
  },
  "language_info": {
   "codemirror_mode": {
    "name": "ipython",
    "version": 3
   },
   "file_extension": ".py",
   "mimetype": "text/x-python",
   "name": "python",
   "nbconvert_exporter": "python",
   "pygments_lexer": "ipython3",
   "version": "3.9.15"
  }
 },
 "nbformat": 4,
 "nbformat_minor": 2
}
